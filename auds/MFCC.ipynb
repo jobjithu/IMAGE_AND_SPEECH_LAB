{
 "cells": [
  {
   "cell_type": "code",
   "execution_count": 1,
   "id": "7e979e7a",
   "metadata": {},
   "outputs": [],
   "source": [
    "import librosa"
   ]
  },
  {
   "cell_type": "code",
   "execution_count": 2,
   "id": "0ee5c226",
   "metadata": {},
   "outputs": [],
   "source": [
    "d_file = 'speech.wav'"
   ]
  },
  {
   "cell_type": "code",
   "execution_count": 3,
   "id": "b45781ac",
   "metadata": {},
   "outputs": [],
   "source": [
    "y,sr = librosa.load(d_file,sr =8000)"
   ]
  },
  {
   "cell_type": "code",
   "execution_count": 5,
   "id": "9aa2d1a7",
   "metadata": {},
   "outputs": [
    {
     "name": "stdout",
     "output_type": "stream",
     "text": [
      "Sample rate:8000Hz\n",
      "Audio Duration:6.5s\n",
      "[[-208.40358     -60.87099      98.27062    ... -216.443\n",
      "  -216.94101    -215.6028    ]\n",
      " [  29.86507      67.108185     35.883442   ...   38.730267\n",
      "    31.741959     28.968864  ]\n",
      " [ -21.32252     -22.431568    -19.699825   ...  -26.303661\n",
      "   -26.308084    -22.145035  ]\n",
      " ...\n",
      " [  -7.0631857   -11.764182      2.4882982  ...   -2.2593167\n",
      "    -7.040555     -8.195915  ]\n",
      " [   2.9820988     1.5498517    10.483925   ...    4.948785\n",
      "     3.7254288    -0.46415618]\n",
      " [  -5.34697     -18.21801     -13.778573   ...   -6.4836674\n",
      "    -6.155367     -1.2862672 ]]\n"
     ]
    }
   ],
   "source": [
    "print(f\"Sample rate:{sr}Hz\")\n",
    "print(f\"Audio Duration:{len(y)/sr}s\")\n",
    "print(librosa.feature.mfcc(y=y,sr = sr,n_mfcc=13))"
   ]
  },
  {
   "cell_type": "code",
   "execution_count": null,
   "id": "efeeb95c",
   "metadata": {},
   "outputs": [],
   "source": []
  }
 ],
 "metadata": {
  "kernelspec": {
   "display_name": "Python 3 (ipykernel)",
   "language": "python",
   "name": "python3"
  },
  "language_info": {
   "codemirror_mode": {
    "name": "ipython",
    "version": 3
   },
   "file_extension": ".py",
   "mimetype": "text/x-python",
   "name": "python",
   "nbconvert_exporter": "python",
   "pygments_lexer": "ipython3",
   "version": "3.9.13"
  }
 },
 "nbformat": 4,
 "nbformat_minor": 5
}
